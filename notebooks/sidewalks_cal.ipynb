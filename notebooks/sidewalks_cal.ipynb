{
 "cells": [
  {
   "cell_type": "code",
   "execution_count": null,
   "metadata": {
    "colab": {},
    "colab_type": "code",
    "id": "Y-yE36Ykzlfd"
   },
   "outputs": [],
   "source": [
    "import os\n",
    "\n",
    "import numpy as np\n",
    "import pandas as pd\n",
    "\n",
    "from shapely.geometry import LineString\n",
    "from shapely.geometry import Point, MultiPoint, MultiLineString\n",
    "from shapely.ops import linemerge, nearest_points\n",
    "\n",
    "import geopandas as gpd\n",
    "from geopandas import GeoDataFrame\n",
    "from centerline.geometry import Centerline\n",
    "\n",
    "from tqdm.notebook import tqdm_notebook\n",
    "tqdm_notebook.pandas()"
   ]
  },
  {
   "cell_type": "markdown",
   "metadata": {
    "colab_type": "text",
    "id": "frUId_D_zlft"
   },
   "source": [
    "## Get Sidewalk Centerlines"
   ]
  },
  {
   "cell_type": "code",
   "execution_count": null,
   "metadata": {
    "colab": {},
    "colab_type": "code",
    "id": "r-Vnbkbkzlfv"
   },
   "outputs": [],
   "source": [
    "df = gpd.read_file('./data/pedestrian.shp')"
   ]
  },
  {
   "cell_type": "code",
   "execution_count": null,
   "metadata": {
    "colab": {
     "base_uri": "https://localhost:8080/",
     "height": 74
    },
    "colab_type": "code",
    "executionInfo": {
     "elapsed": 1430,
     "status": "ok",
     "timestamp": 1589274438102,
     "user": {
      "displayName": "Lorenzo Stucchi",
      "photoUrl": "https://lh3.googleusercontent.com/a-/AOh14Ggua7Q9NYuvXDtscHJTjphwFg3avx5AozPWlUL4=s64",
      "userId": "00613465035490645563"
     },
     "user_tz": -120
    },
    "id": "93mBqOV2zlf8",
    "outputId": "03403daf-08b0-49e6-ffcc-c98ddf6fe877"
   },
   "outputs": [],
   "source": [
    "crs = {'init': 'epsg:6707'}\n",
    "df.crs = crs"
   ]
  },
  {
   "cell_type": "code",
   "execution_count": null,
   "metadata": {
    "colab": {
     "base_uri": "https://localhost:8080/",
     "height": 729
    },
    "colab_type": "code",
    "executionInfo": {
     "elapsed": 3241,
     "status": "ok",
     "timestamp": 1589274439922,
     "user": {
      "displayName": "Lorenzo Stucchi",
      "photoUrl": "https://lh3.googleusercontent.com/a-/AOh14Ggua7Q9NYuvXDtscHJTjphwFg3avx5AozPWlUL4=s64",
      "userId": "00613465035490645563"
     },
     "user_tz": -120
    },
    "id": "sXskSQf-zlgG",
    "outputId": "2168d39e-b4df-4e93-d787-fbc18292777c"
   },
   "outputs": [],
   "source": [
    "df.plot(figsize=(12, 12), cmap='viridis')"
   ]
  },
  {
   "cell_type": "code",
   "execution_count": null,
   "metadata": {
    "colab": {},
    "colab_type": "code",
    "id": "w2s3sDRbzlgN"
   },
   "outputs": [],
   "source": [
    "df_dissolved = gpd.GeoDataFrame(geometry=gpd.GeoSeries([geom for geom in df.unary_union.geoms]))"
   ]
  },
  {
   "cell_type": "code",
   "execution_count": null,
   "metadata": {
    "colab": {},
    "colab_type": "code",
    "id": "qelre6h2zlgX"
   },
   "outputs": [],
   "source": [
    "df_exploded = gpd.GeoDataFrame(df_dissolved.geometry.explode())"
   ]
  },
  {
   "cell_type": "code",
   "execution_count": null,
   "metadata": {
    "colab": {
     "base_uri": "https://localhost:8080/",
     "height": 729
    },
    "colab_type": "code",
    "executionInfo": {
     "elapsed": 43712,
     "status": "ok",
     "timestamp": 1589274480414,
     "user": {
      "displayName": "Lorenzo Stucchi",
      "photoUrl": "https://lh3.googleusercontent.com/a-/AOh14Ggua7Q9NYuvXDtscHJTjphwFg3avx5AozPWlUL4=s64",
      "userId": "00613465035490645563"
     },
     "user_tz": -120
    },
    "id": "ICqyplEgzlgj",
    "outputId": "f1e706ab-965a-485f-928f-a8b7e18449b3"
   },
   "outputs": [],
   "source": [
    "df_exploded.plot(figsize=(12, 12), cmap='viridis')"
   ]
  },
  {
   "cell_type": "code",
   "execution_count": null,
   "metadata": {
    "colab": {
     "base_uri": "https://localhost:8080/",
     "height": 49,
     "referenced_widgets": [
      "437d1a9e10394ddc831f13d7f000a28c",
      "ff87568e6c604b178a1453522a2cf17e",
      "4cc53dfa27f048b48fed5259d794af9d",
      "8a832aa9641248bcad14eb9508274707",
      "cbc90bc97ff348ad9f725b17ef9b8a81",
      "3d61c1f389c648be961874354311b56a",
      "f15bf1f948094cef90e0441b4ee4568e",
      "c26f5aade2ff4c8386ecb2f8e43a0c93"
     ]
    },
    "colab_type": "code",
    "executionInfo": {
     "elapsed": 501987,
     "status": "ok",
     "timestamp": 1589272428945,
     "user": {
      "displayName": "Lorenzo Stucchi",
      "photoUrl": "https://lh3.googleusercontent.com/a-/AOh14Ggua7Q9NYuvXDtscHJTjphwFg3avx5AozPWlUL4=s64",
      "userId": "00613465035490645563"
     },
     "user_tz": -120
    },
    "id": "9H9v_Hgszlgw",
    "outputId": "c351dbee-f5bf-413f-d218-d75e34448ec1",
    "scrolled": true
   },
   "outputs": [],
   "source": [
    "df_exploded['centerlines'] = df_exploded.progress_apply(lambda row: Centerline(row.geometry), axis=1)"
   ]
  },
  {
   "cell_type": "code",
   "execution_count": null,
   "metadata": {
    "colab": {},
    "colab_type": "code",
    "id": "PCUjxWGMzlg1"
   },
   "outputs": [],
   "source": [
    "df_exploded = df_exploded.set_geometry('centerlines')"
   ]
  },
  {
   "cell_type": "code",
   "execution_count": null,
   "metadata": {
    "colab": {},
    "colab_type": "code",
    "id": "mPDwDNYWzlhC"
   },
   "outputs": [],
   "source": [
    "df_exploded.plot(figsize=(12, 12), cmap='viridis')"
   ]
  },
  {
   "cell_type": "markdown",
   "metadata": {
    "colab_type": "text",
    "id": "eWQtIwDNzlhM"
   },
   "source": [
    "## Remove Short Line Ends"
   ]
  },
  {
   "cell_type": "code",
   "execution_count": null,
   "metadata": {
    "colab": {},
    "colab_type": "code",
    "id": "olz1SoE7zlhN"
   },
   "outputs": [],
   "source": [
    "df_exploded['centerlines'] = df_exploded['centerlines'].progress_apply(linemerge)"
   ]
  },
  {
   "cell_type": "code",
   "execution_count": null,
   "metadata": {
    "colab": {},
    "colab_type": "code",
    "id": "EkLndxEezlhT"
   },
   "outputs": [],
   "source": [
    "def remove_short_lines(line):\n",
    "    \n",
    "    if line.type == 'MultiLineString':\n",
    "        \n",
    "        passing_lines = []\n",
    "    \n",
    "        for i, linestring in enumerate(line):\n",
    "            \n",
    "            other_lines = MultiLineString([x for j, x in enumerate(line) if j != i])\n",
    "            \n",
    "            p0 = Point(linestring.coords[0])\n",
    "            p1 = Point(linestring.coords[-1])\n",
    "            \n",
    "            is_deadend = False\n",
    "            \n",
    "            if p0.disjoint(other_lines): is_deadend = True\n",
    "            if p1.disjoint(other_lines): is_deadend = True\n",
    "            \n",
    "            if not is_deadend or linestring.length > 5:                \n",
    "                passing_lines.append(linestring)\n",
    "            \n",
    "        return MultiLineString(passing_lines)\n",
    "            \n",
    "    if line.type == 'LineString':\n",
    "        return line"
   ]
  },
  {
   "cell_type": "code",
   "execution_count": null,
   "metadata": {
    "colab": {},
    "colab_type": "code",
    "id": "7w2ek4-Szlhg",
    "scrolled": true
   },
   "outputs": [],
   "source": [
    "df_exploded['centerlines'] = df_exploded['centerlines'].progress_apply(remove_short_lines)"
   ]
  },
  {
   "cell_type": "code",
   "execution_count": null,
   "metadata": {
    "colab": {},
    "colab_type": "code",
    "id": "01HCs3Pmzlhm"
   },
   "outputs": [],
   "source": [
    "df_exploded.head()"
   ]
  },
  {
   "cell_type": "code",
   "execution_count": null,
   "metadata": {
    "colab": {},
    "colab_type": "code",
    "id": "6z2gQsCczlhu"
   },
   "outputs": [],
   "source": [
    "df_exploded.plot(figsize=(12, 12), cmap='viridis')"
   ]
  },
  {
   "cell_type": "markdown",
   "metadata": {
    "colab_type": "text",
    "id": "WmdEjU6vzlh7"
   },
   "source": [
    "## Get Sidewalk Widths"
   ]
  },
  {
   "cell_type": "code",
   "execution_count": null,
   "metadata": {
    "colab": {},
    "colab_type": "code",
    "id": "7eKF4ZLtzlh8"
   },
   "outputs": [],
   "source": [
    "df_exploded['centerlines'] = df_exploded['centerlines'].progress_apply(lambda row: row.simplify(1, preserve_topology=True))"
   ]
  },
  {
   "cell_type": "code",
   "execution_count": null,
   "metadata": {
    "colab": {},
    "colab_type": "code",
    "id": "ltppltBIzliD"
   },
   "outputs": [],
   "source": [
    "df_exploded.plot(figsize=(12, 12), cmap='viridis')"
   ]
  },
  {
   "cell_type": "code",
   "execution_count": null,
   "metadata": {
    "colab": {},
    "colab_type": "code",
    "id": "kSgAHf_KzliI"
   },
   "outputs": [],
   "source": [
    "def linestring_to_segments(linestring):\n",
    "    return [LineString([linestring.coords[i], linestring.coords[i+1]]) for i in range(len(linestring.coords) - 1)]"
   ]
  },
  {
   "cell_type": "code",
   "execution_count": null,
   "metadata": {
    "colab": {},
    "colab_type": "code",
    "id": "9H3EM4YOzliO"
   },
   "outputs": [],
   "source": [
    "def get_segments(line):\n",
    "    \n",
    "    line_segments = []\n",
    "\n",
    "    if line.type == 'MultiLineString':\n",
    "        \n",
    "        for linestring in line.geoms:\n",
    "            \n",
    "            line_segments.extend(linestring_to_segments(linestring))\n",
    "\n",
    "    if line.type == 'LineString':\n",
    "        \n",
    "        line_segments.extend(linestring_to_segments(line))\n",
    "\n",
    "    return line_segments"
   ]
  },
  {
   "cell_type": "code",
   "execution_count": null,
   "metadata": {
    "colab": {},
    "colab_type": "code",
    "id": "2p407SHAzliR"
   },
   "outputs": [],
   "source": [
    "df_exploded.head(1)"
   ]
  },
  {
   "cell_type": "code",
   "execution_count": null,
   "metadata": {
    "colab": {},
    "colab_type": "code",
    "id": "ey1UJ6fzzliY"
   },
   "outputs": [],
   "source": [
    "df_exploded['segments'] = df_exploded['centerlines'].progress_apply(get_segments)\n",
    "df_exploded.head(1)"
   ]
  },
  {
   "cell_type": "code",
   "execution_count": null,
   "metadata": {
    "colab": {},
    "colab_type": "code",
    "id": "EmLjjt51zlif"
   },
   "outputs": [],
   "source": [
    "def interpolate_by_distance(linestring):\n",
    "    \n",
    "    distance = 1\n",
    "    all_points = []\n",
    "    count = round(linestring.length / distance) + 1\n",
    "    \n",
    "    if count == 1:\n",
    "        all_points.append(linestring.interpolate(linestring.length / 2))\n",
    "    \n",
    "    else:\n",
    "        for i in range(count):\n",
    "            all_points.append(linestring.interpolate(distance * i))\n",
    "    \n",
    "    return all_points\n",
    "\n",
    "def interpolate(line):\n",
    "    \n",
    "    if line.type == 'MultiLineString':\n",
    "        \n",
    "        all_points = []\n",
    "        \n",
    "        for linestring in line:\n",
    "            all_points.extend(interpolate_by_distance(linestring))\n",
    "        \n",
    "        return MultiPoint(all_points)\n",
    "            \n",
    "    if line.type == 'LineString':\n",
    "        return MultiPoint(interpolate_by_distance(line))\n",
    "    \n",
    "    \n",
    "def polygon_to_multilinestring(polygon):\n",
    "\n",
    "    return MultiLineString([polygon.exterior] + [line for line in polygon.interiors])\n",
    "    \n",
    "\n",
    "def get_avg_distances(row):\n",
    "    \n",
    "    avg_distances = []\n",
    "    \n",
    "    sidewalk_lines = polygon_to_multilinestring(row.geometry)\n",
    "    \n",
    "    for segment in row.segments:\n",
    "        \n",
    "        points = interpolate(segment)\n",
    "        \n",
    "        distances = []\n",
    "        \n",
    "        for point in points:\n",
    "            p1, p2 = nearest_points(sidewalk_lines, point)\n",
    "            distances.append(p1.distance(p2))\n",
    "            \n",
    "        avg_distances.append(sum(distances) / len(distances))\n",
    "        \n",
    "    return avg_distances"
   ]
  },
  {
   "cell_type": "code",
   "execution_count": null,
   "metadata": {
    "colab": {},
    "colab_type": "code",
    "id": "RB9WCk9azlik"
   },
   "outputs": [],
   "source": [
    "df_exploded['avg_distances'] = df_exploded.progress_apply(lambda row: get_avg_distances(row), axis=1)\n",
    "df_exploded.head(1)"
   ]
  },
  {
   "cell_type": "code",
   "execution_count": null,
   "metadata": {
    "colab": {},
    "colab_type": "code",
    "id": "-F7zqXPTzlio"
   },
   "outputs": [],
   "source": [
    "data = {'geometry': [], 'width': []}\n",
    "\n",
    "for i, row in df_exploded.iterrows():\n",
    "    \n",
    "    for segment in row.segments:\n",
    "        data['geometry'].append(segment)\n",
    "    \n",
    "    for distance in row.avg_distances:\n",
    "        data['width'].append(distance * 2)\n",
    "        \n",
    "df_segments = pd.DataFrame(data)\n",
    "df_segments = GeoDataFrame(df_segments, crs=crs, geometry='geometry')\n",
    "df_segments.head(1)"
   ]
  },
  {
   "cell_type": "code",
   "execution_count": null,
   "metadata": {
    "colab": {},
    "colab_type": "code",
    "id": "87ZjQCBKzliu"
   },
   "outputs": [],
   "source": [
    "df_segments.plot(figsize=(12, 12), cmap='viridis')"
   ]
  },
  {
   "cell_type": "code",
   "execution_count": null,
   "metadata": {
    "colab": {},
    "colab_type": "code",
    "id": "BoaWvDuwzliy"
   },
   "outputs": [],
   "source": [
    "df_segments.plot(figsize=(12, 12), column='width', cmap='viridis')"
   ]
  },
  {
   "cell_type": "code",
   "execution_count": null,
   "metadata": {
    "colab": {},
    "colab_type": "code",
    "id": "tGHv6a90zli7"
   },
   "outputs": [],
   "source": [
    "df_segments.head()"
   ]
  },
  {
   "cell_type": "code",
   "execution_count": null,
   "metadata": {
    "colab": {},
    "colab_type": "code",
    "id": "FCNGO_AtzljH"
   },
   "outputs": [],
   "source": [
    "df_segments.crs"
   ]
  },
  {
   "cell_type": "code",
   "execution_count": null,
   "metadata": {
    "colab": {},
    "colab_type": "code",
    "id": "GERG5l_LCa8U"
   },
   "outputs": [],
   "source": [
    "with open('./sidewalkwidths.geojson', 'w') as f:\n",
    "    f.write(df_segments.to_json())"
   ]
  }
 ],
 "metadata": {
  "colab": {
   "name": "sidewalks_cal.ipynb",
   "provenance": []
  },
  "kernelspec": {
   "display_name": "Python 3",
   "language": "python",
   "name": "python3"
  },
  "language_info": {
   "codemirror_mode": {
    "name": "ipython",
    "version": 3
   },
   "file_extension": ".py",
   "mimetype": "text/x-python",
   "name": "python",
   "nbconvert_exporter": "python",
   "pygments_lexer": "ipython3",
   "version": "3.7.3"
  },
  "widgets": {
   "application/vnd.jupyter.widget-state+json": {
    "3d61c1f389c648be961874354311b56a": {
     "model_module": "@jupyter-widgets/base",
     "model_name": "LayoutModel",
     "state": {
      "_model_module": "@jupyter-widgets/base",
      "_model_module_version": "1.2.0",
      "_model_name": "LayoutModel",
      "_view_count": null,
      "_view_module": "@jupyter-widgets/base",
      "_view_module_version": "1.2.0",
      "_view_name": "LayoutView",
      "align_content": null,
      "align_items": null,
      "align_self": null,
      "border": null,
      "bottom": null,
      "display": null,
      "flex": null,
      "flex_flow": null,
      "grid_area": null,
      "grid_auto_columns": null,
      "grid_auto_flow": null,
      "grid_auto_rows": null,
      "grid_column": null,
      "grid_gap": null,
      "grid_row": null,
      "grid_template_areas": null,
      "grid_template_columns": null,
      "grid_template_rows": null,
      "height": null,
      "justify_content": null,
      "justify_items": null,
      "left": null,
      "margin": null,
      "max_height": null,
      "max_width": null,
      "min_height": null,
      "min_width": null,
      "object_fit": null,
      "object_position": null,
      "order": null,
      "overflow": null,
      "overflow_x": null,
      "overflow_y": null,
      "padding": null,
      "right": null,
      "top": null,
      "visibility": null,
      "width": null
     }
    },
    "437d1a9e10394ddc831f13d7f000a28c": {
     "model_module": "@jupyter-widgets/controls",
     "model_name": "HBoxModel",
     "state": {
      "_dom_classes": [],
      "_model_module": "@jupyter-widgets/controls",
      "_model_module_version": "1.5.0",
      "_model_name": "HBoxModel",
      "_view_count": null,
      "_view_module": "@jupyter-widgets/controls",
      "_view_module_version": "1.5.0",
      "_view_name": "HBoxView",
      "box_style": "",
      "children": [
       "IPY_MODEL_4cc53dfa27f048b48fed5259d794af9d",
       "IPY_MODEL_8a832aa9641248bcad14eb9508274707"
      ],
      "layout": "IPY_MODEL_ff87568e6c604b178a1453522a2cf17e"
     }
    },
    "4cc53dfa27f048b48fed5259d794af9d": {
     "model_module": "@jupyter-widgets/controls",
     "model_name": "FloatProgressModel",
     "state": {
      "_dom_classes": [],
      "_model_module": "@jupyter-widgets/controls",
      "_model_module_version": "1.5.0",
      "_model_name": "FloatProgressModel",
      "_view_count": null,
      "_view_module": "@jupyter-widgets/controls",
      "_view_module_version": "1.5.0",
      "_view_name": "ProgressView",
      "bar_style": "",
      "description": "  0%",
      "description_tooltip": null,
      "layout": "IPY_MODEL_3d61c1f389c648be961874354311b56a",
      "max": 3242,
      "min": 0,
      "orientation": "horizontal",
      "style": "IPY_MODEL_cbc90bc97ff348ad9f725b17ef9b8a81",
      "value": 3
     }
    },
    "8a832aa9641248bcad14eb9508274707": {
     "model_module": "@jupyter-widgets/controls",
     "model_name": "HTMLModel",
     "state": {
      "_dom_classes": [],
      "_model_module": "@jupyter-widgets/controls",
      "_model_module_version": "1.5.0",
      "_model_name": "HTMLModel",
      "_view_count": null,
      "_view_module": "@jupyter-widgets/controls",
      "_view_module_version": "1.5.0",
      "_view_name": "HTMLView",
      "description": "",
      "description_tooltip": null,
      "layout": "IPY_MODEL_c26f5aade2ff4c8386ecb2f8e43a0c93",
      "placeholder": "​",
      "style": "IPY_MODEL_f15bf1f948094cef90e0441b4ee4568e",
      "value": " 3/3242 [00:04&lt;1:21:36,  1.51s/it]"
     }
    },
    "c26f5aade2ff4c8386ecb2f8e43a0c93": {
     "model_module": "@jupyter-widgets/base",
     "model_name": "LayoutModel",
     "state": {
      "_model_module": "@jupyter-widgets/base",
      "_model_module_version": "1.2.0",
      "_model_name": "LayoutModel",
      "_view_count": null,
      "_view_module": "@jupyter-widgets/base",
      "_view_module_version": "1.2.0",
      "_view_name": "LayoutView",
      "align_content": null,
      "align_items": null,
      "align_self": null,
      "border": null,
      "bottom": null,
      "display": null,
      "flex": null,
      "flex_flow": null,
      "grid_area": null,
      "grid_auto_columns": null,
      "grid_auto_flow": null,
      "grid_auto_rows": null,
      "grid_column": null,
      "grid_gap": null,
      "grid_row": null,
      "grid_template_areas": null,
      "grid_template_columns": null,
      "grid_template_rows": null,
      "height": null,
      "justify_content": null,
      "justify_items": null,
      "left": null,
      "margin": null,
      "max_height": null,
      "max_width": null,
      "min_height": null,
      "min_width": null,
      "object_fit": null,
      "object_position": null,
      "order": null,
      "overflow": null,
      "overflow_x": null,
      "overflow_y": null,
      "padding": null,
      "right": null,
      "top": null,
      "visibility": null,
      "width": null
     }
    },
    "cbc90bc97ff348ad9f725b17ef9b8a81": {
     "model_module": "@jupyter-widgets/controls",
     "model_name": "ProgressStyleModel",
     "state": {
      "_model_module": "@jupyter-widgets/controls",
      "_model_module_version": "1.5.0",
      "_model_name": "ProgressStyleModel",
      "_view_count": null,
      "_view_module": "@jupyter-widgets/base",
      "_view_module_version": "1.2.0",
      "_view_name": "StyleView",
      "bar_color": null,
      "description_width": "initial"
     }
    },
    "f15bf1f948094cef90e0441b4ee4568e": {
     "model_module": "@jupyter-widgets/controls",
     "model_name": "DescriptionStyleModel",
     "state": {
      "_model_module": "@jupyter-widgets/controls",
      "_model_module_version": "1.5.0",
      "_model_name": "DescriptionStyleModel",
      "_view_count": null,
      "_view_module": "@jupyter-widgets/base",
      "_view_module_version": "1.2.0",
      "_view_name": "StyleView",
      "description_width": ""
     }
    },
    "ff87568e6c604b178a1453522a2cf17e": {
     "model_module": "@jupyter-widgets/base",
     "model_name": "LayoutModel",
     "state": {
      "_model_module": "@jupyter-widgets/base",
      "_model_module_version": "1.2.0",
      "_model_name": "LayoutModel",
      "_view_count": null,
      "_view_module": "@jupyter-widgets/base",
      "_view_module_version": "1.2.0",
      "_view_name": "LayoutView",
      "align_content": null,
      "align_items": null,
      "align_self": null,
      "border": null,
      "bottom": null,
      "display": null,
      "flex": null,
      "flex_flow": null,
      "grid_area": null,
      "grid_auto_columns": null,
      "grid_auto_flow": null,
      "grid_auto_rows": null,
      "grid_column": null,
      "grid_gap": null,
      "grid_row": null,
      "grid_template_areas": null,
      "grid_template_columns": null,
      "grid_template_rows": null,
      "height": null,
      "justify_content": null,
      "justify_items": null,
      "left": null,
      "margin": null,
      "max_height": null,
      "max_width": null,
      "min_height": null,
      "min_width": null,
      "object_fit": null,
      "object_position": null,
      "order": null,
      "overflow": null,
      "overflow_x": null,
      "overflow_y": null,
      "padding": null,
      "right": null,
      "top": null,
      "visibility": null,
      "width": null
     }
    }
   }
  }
 },
 "nbformat": 4,
 "nbformat_minor": 1
}
